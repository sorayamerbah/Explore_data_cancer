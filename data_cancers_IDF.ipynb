{
 "cells": [
  {
   "cell_type": "markdown",
   "id": "b4061bb5-1476-411c-bace-aa7ca477b5fd",
   "metadata": {},
   "source": [
    "## Exploration d'un dataset \"Effectif de patient atteints de cancers pris en charge par l'assurance maladie en ile de france\""
   ]
  },
  {
   "cell_type": "markdown",
   "id": "e965653c-5de0-4efc-b20d-38ed7eca516a",
   "metadata": {},
   "source": [
    "### I. Récupération des données et importation dans DuckDB"
   ]
  },
  {
   "cell_type": "code",
   "execution_count": 1,
   "id": "382d2027-e52f-4a37-a848-8fa72cc3117a",
   "metadata": {},
   "outputs": [
    {
     "name": "stdout",
     "output_type": "stream",
     "text": [
      "  annee patho_niv1 patho_niv2 patho_niv3          top cla_age_5 sexe region  \\\n",
      "0  2020    Cancers       None       None  CAN_CAT_CAT     00-04    1     11   \n",
      "1  2020    Cancers       None       None  CAN_CAT_CAT     00-04    1     11   \n",
      "2  2020    Cancers       None       None  CAN_CAT_CAT     00-04    1     11   \n",
      "3  2020    Cancers       None       None  CAN_CAT_CAT     00-04    1     11   \n",
      "4  2020    Cancers       None       None  CAN_CAT_CAT     00-04    1     11   \n",
      "\n",
      "  dept  ntop   npop   prev niveau_prioritaire libelle_classe_age libelle_sexe  \\\n",
      "0   75    50  51830  0.093                [1]       de 0 à 4 ans       hommes   \n",
      "1   77    40  44980  0.091                [1]       de 0 à 4 ans       hommes   \n",
      "2   78    40  45740  0.083                [1]       de 0 à 4 ans       hommes   \n",
      "3   91    60  43420  0.127                [1]       de 0 à 4 ans       hommes   \n",
      "4   92    40  52030  0.071                [1]       de 0 à 4 ans       hommes   \n",
      "\n",
      "   tri  \n",
      "0  1.0  \n",
      "1  1.0  \n",
      "2  1.0  \n",
      "3  1.0  \n",
      "4  1.0  \n",
      "\n",
      "Données lues depuis DuckDB :\n",
      "\n",
      "  annee patho_niv1      patho_niv2 patho_niv3          top cla_age_5 sexe  \\\n",
      "0  2016    Cancers  Autres cancers       None  CAN_AUT_CAT     65-69    9   \n",
      "1  2016    Cancers  Autres cancers       None  CAN_AUT_CAT     65-69    9   \n",
      "2  2016    Cancers  Autres cancers       None  CAN_AUT_CAT     65-69    9   \n",
      "3  2016    Cancers  Autres cancers       None  CAN_AUT_CAT     65-69    9   \n",
      "4  2016    Cancers  Autres cancers       None  CAN_AUT_CAT     65-69    9   \n",
      "\n",
      "  region dept  ntop   npop   prev niveau_prioritaire libelle_classe_age  \\\n",
      "0     11   77  3960  66230  5.980                [2]     de 65 à 69 ans   \n",
      "1     11   78  4160  70120  5.937                [2]     de 65 à 69 ans   \n",
      "2     11   92  4000  69700  5.732                [2]     de 65 à 69 ans   \n",
      "3     11   93  3680  64040  5.748                [2]     de 65 à 69 ans   \n",
      "4     11   95  3180  55420  5.734                [2]     de 65 à 69 ans   \n",
      "\n",
      "  libelle_sexe  \n",
      "0   tous sexes  \n",
      "1   tous sexes  \n",
      "2   tous sexes  \n",
      "3   tous sexes  \n",
      "4   tous sexes  \n"
     ]
    }
   ],
   "source": [
    "import requests\n",
    "import pandas as pd\n",
    "import duckdb\n",
    "\n",
    "url = \"https://data.ameli.fr/api/explore/v2.1/catalog/datasets/effectifs/records\"\n",
    "\n",
    "params = {\n",
    "    \"limit\": 100,\n",
    "    \"where\": \"patho_niv1 = 'Cancers' AND region = '11'\"\n",
    "}\n",
    "\n",
    "response = requests.get(url, params=params)\n",
    "response.raise_for_status()\n",
    "data = response.json()\n",
    "\n",
    "# Les résultats sont dans \"results\"\n",
    "records = data.get(\"results\", [])\n",
    "df = pd.DataFrame(records)\n",
    "\n",
    "print(df.head())\n",
    "\n",
    "\n",
    "# Importation dans DuckDB \n",
    "con = duckdb.connect(\"ameli_cancers.duckdb\")\n",
    "\n",
    "# Création d'une table et insertion du DataFrame\n",
    "con.register(\"df_view\", df)\n",
    "con.execute(\"CREATE TABLE IF NOT EXISTS cancers_idf AS SELECT * FROM df_view\")\n",
    "\n",
    "# Supprimer la colonne 'tri' si elle existe\n",
    "con.execute(\"ALTER TABLE cancers_idf DROP COLUMN IF EXISTS tri\")\n",
    "\n",
    "# Vérification : lire les 5 premières lignes depuis DuckDB, table cancers_idf\n",
    "result = con.execute(\"SELECT * FROM cancers_idf LIMIT 5\").fetchdf()\n",
    "print(\"\\nDonnées lues depuis DuckDB :\\n\")\n",
    "print(result)\n",
    "\n"
   ]
  },
  {
   "cell_type": "markdown",
   "id": "b66f2c18-d41b-4cb4-b8bc-d95f04e4695e",
   "metadata": {},
   "source": [
    "II. Exploration statistique interactive avec la librairIe ydata_profiling"
   ]
  },
  {
   "cell_type": "code",
   "execution_count": 2,
   "id": "c9f8f0cb-a2e7-483d-9353-a9c7cfb40f9a",
   "metadata": {},
   "outputs": [
    {
     "name": "stderr",
     "output_type": "stream",
     "text": [
      "C:\\Users\\slima\\anaconda3\\envs\\testech_env\\Lib\\site-packages\\tqdm\\auto.py:21: TqdmWarning: IProgress not found. Please update jupyter and ipywidgets. See https://ipywidgets.readthedocs.io/en/stable/user_install.html\n",
      "  from .autonotebook import tqdm as notebook_tqdm\n"
     ]
    },
    {
     "data": {
      "text/html": [
       "\n",
       "            <div>\n",
       "                <ins><a href=\"https://ydata.ai/register\">Upgrade to ydata-sdk</a></ins>\n",
       "                <p>\n",
       "                    Improve your data and profiling with ydata-sdk, featuring data quality scoring, redundancy detection, outlier identification, text validation, and synthetic data generation.\n",
       "                </p>\n",
       "            </div>\n",
       "            "
      ],
      "text/plain": [
       "<IPython.core.display.HTML object>"
      ]
     },
     "metadata": {},
     "output_type": "display_data"
    },
    {
     "name": "stderr",
     "output_type": "stream",
     "text": [
      "Summarize dataset:   0%|          | 0/20 [00:00<?, ?it/s, Describe variable: region]    \n",
      "Summarize dataset:  30%|███       | 6/20 [00:00<00:00, 15.59it/s, Describe variable: libelle_classe_age]\n",
      "Summarize dataset:  50%|█████     | 10/20 [00:00<00:00, 19.97it/s, Describe variable: libelle_sexe]     \n",
      "Summarize dataset:  65%|██████▌   | 13/20 [00:00<00:00, 19.98it/s, Describe variable: libelle_sexe]\n",
      "100%|██████████| 15/15 [00:00<00:00, 20.10it/s]\u001b[A\n",
      "Summarize dataset: 100%|██████████| 33/33 [00:05<00:00,  6.09it/s, Completed]                      \n",
      "Generate report structure: 100%|██████████| 1/1 [00:07<00:00,  7.85s/it]\n",
      "Render HTML: 100%|██████████| 1/1 [00:01<00:00,  1.14s/it]\n",
      "Export report to file: 100%|██████████| 1/1 [00:00<00:00, 64.87it/s]"
     ]
    },
    {
     "name": "stdout",
     "output_type": "stream",
     "text": [
      "Rapport généré avec succès : rapport_cancers_idf.html\n"
     ]
    },
    {
     "name": "stderr",
     "output_type": "stream",
     "text": [
      "\n"
     ]
    },
    {
     "data": {
      "text/html": [
       "<a href=\"rapport_cancers_idf.html\" download>Télécharger le Rapport Cancers IDF</a>"
      ],
      "text/plain": [
       "<IPython.core.display.HTML object>"
      ]
     },
     "execution_count": 2,
     "metadata": {},
     "output_type": "execute_result"
    }
   ],
   "source": [
    "from ydata_profiling import ProfileReport \n",
    "from IPython.display import HTML\n",
    "\n",
    "# Connexion à la base DuckDB: ameli_cancers\n",
    "con = duckdb.connect(\"ameli_cancers.duckdb\")\n",
    "\n",
    "# Requête SQL pour récupérer toutes les données de la table cancer_idf\n",
    "df = con.execute(\"SELECT * FROM cancers_idf\").fetchdf()\n",
    "\n",
    "# Générer un rapport statistique descriptif \n",
    "profile = ProfileReport(df, title=\"Rapport descriptif - Cancers IDF\", explorative=True)\n",
    "\n",
    "# Sauvegarder en HTML\n",
    "profile.to_file(\"rapport_cancers_idf.html\")\n",
    "print(\"Rapport généré avec succès : rapport_cancers_idf.html\")\n",
    "\n",
    "# Crée un lien pour télécharger le rapport HTML\n",
    "HTML('<a href=\"rapport_cancers_idf.html\" download>Télécharger le Rapport Cancers IDF</a>')"
   ]
  },
  {
   "cell_type": "code",
   "execution_count": null,
   "id": "b1c13a8b-469e-4a05-9f42-9886ccbd1004",
   "metadata": {},
   "outputs": [],
   "source": []
  }
 ],
 "metadata": {
  "kernelspec": {
   "display_name": "Python 3 (ipykernel)",
   "language": "python",
   "name": "python3"
  },
  "language_info": {
   "codemirror_mode": {
    "name": "ipython",
    "version": 3
   },
   "file_extension": ".py",
   "mimetype": "text/x-python",
   "name": "python",
   "nbconvert_exporter": "python",
   "pygments_lexer": "ipython3",
   "version": "3.11.13"
  }
 },
 "nbformat": 4,
 "nbformat_minor": 5
}
